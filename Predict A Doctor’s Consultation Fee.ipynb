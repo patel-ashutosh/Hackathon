{
 "cells": [
  {
   "cell_type": "code",
   "execution_count": 1,
   "metadata": {},
   "outputs": [
    {
     "name": "stderr",
     "output_type": "stream",
     "text": [
      "C:\\Users\\ashupatel\\AppData\\Local\\Continuum\\anaconda3\\lib\\site-packages\\statsmodels\\tools\\_testing.py:19: FutureWarning: pandas.util.testing is deprecated. Use the functions in the public API at pandas.testing instead.\n",
      "  import pandas.util.testing as tm\n"
     ]
    }
   ],
   "source": [
    "# import packages\n",
    "import pandas as pd\n",
    "import numpy as np\n",
    "import matplotlib.pyplot as plt\n",
    "import seaborn as sns\n",
    "from sklearn.preprocessing import scale\n",
    "import warnings\n",
    "warnings.filterwarnings(\"ignore\")\n",
    "pd.set_option('display.max_columns', None) \n",
    "plt.style.use(\"ggplot\")"
   ]
  },
  {
   "cell_type": "code",
   "execution_count": 10,
   "metadata": {},
   "outputs": [
    {
     "data": {
      "text/html": [
       "<div>\n",
       "<style scoped>\n",
       "    .dataframe tbody tr th:only-of-type {\n",
       "        vertical-align: middle;\n",
       "    }\n",
       "\n",
       "    .dataframe tbody tr th {\n",
       "        vertical-align: top;\n",
       "    }\n",
       "\n",
       "    .dataframe thead th {\n",
       "        text-align: right;\n",
       "    }\n",
       "</style>\n",
       "<table border=\"1\" class=\"dataframe\">\n",
       "  <thead>\n",
       "    <tr style=\"text-align: right;\">\n",
       "      <th></th>\n",
       "      <th>Experience</th>\n",
       "      <th>Fees</th>\n",
       "      <th>Miscellaneous_Info</th>\n",
       "      <th>Place</th>\n",
       "      <th>Profile</th>\n",
       "      <th>Qualification</th>\n",
       "      <th>Rating</th>\n",
       "      <th>label</th>\n",
       "    </tr>\n",
       "  </thead>\n",
       "  <tbody>\n",
       "    <tr>\n",
       "      <th>1982</th>\n",
       "      <td>10 years experience</td>\n",
       "      <td>NaN</td>\n",
       "      <td>NaN</td>\n",
       "      <td>Basavanagudi, Bangalore</td>\n",
       "      <td>Ayurveda</td>\n",
       "      <td>BAMS, Doctor of Medicine</td>\n",
       "      <td>NaN</td>\n",
       "      <td>test</td>\n",
       "    </tr>\n",
       "    <tr>\n",
       "      <th>1983</th>\n",
       "      <td>4 years experience</td>\n",
       "      <td>NaN</td>\n",
       "      <td>NaN</td>\n",
       "      <td>Choolai, Chennai</td>\n",
       "      <td>Dermatologists</td>\n",
       "      <td>MD - Dermatology , Venereology &amp; Leprosy, MBBS</td>\n",
       "      <td>NaN</td>\n",
       "      <td>test</td>\n",
       "    </tr>\n",
       "    <tr>\n",
       "      <th>1984</th>\n",
       "      <td>9 years experience</td>\n",
       "      <td>NaN</td>\n",
       "      <td>NaN</td>\n",
       "      <td>Porur, Chennai</td>\n",
       "      <td>General Medicine</td>\n",
       "      <td>MBBS, MD / MS - Obstetrics &amp; Gynaecology</td>\n",
       "      <td>NaN</td>\n",
       "      <td>test</td>\n",
       "    </tr>\n",
       "    <tr>\n",
       "      <th>1985</th>\n",
       "      <td>12 years experience</td>\n",
       "      <td>NaN</td>\n",
       "      <td>RCT - Root Canal Treatment Root Canal Treatmen...</td>\n",
       "      <td>Arekere, Bangalore</td>\n",
       "      <td>Dentist</td>\n",
       "      <td>BDS</td>\n",
       "      <td>98%</td>\n",
       "      <td>test</td>\n",
       "    </tr>\n",
       "    <tr>\n",
       "      <th>1986</th>\n",
       "      <td>8 years experience</td>\n",
       "      <td>NaN</td>\n",
       "      <td>1 Feedback Pallikaranai, Chennai ₹500</td>\n",
       "      <td>Pallikaranai, Chennai</td>\n",
       "      <td>Dermatologists</td>\n",
       "      <td>MBBS, MD - Dermatology , Venereology &amp; Leprosy</td>\n",
       "      <td>NaN</td>\n",
       "      <td>test</td>\n",
       "    </tr>\n",
       "  </tbody>\n",
       "</table>\n",
       "</div>"
      ],
      "text/plain": [
       "               Experience  Fees  \\\n",
       "1982  10 years experience   NaN   \n",
       "1983   4 years experience   NaN   \n",
       "1984   9 years experience   NaN   \n",
       "1985  12 years experience   NaN   \n",
       "1986   8 years experience   NaN   \n",
       "\n",
       "                                     Miscellaneous_Info  \\\n",
       "1982                                                NaN   \n",
       "1983                                                NaN   \n",
       "1984                                                NaN   \n",
       "1985  RCT - Root Canal Treatment Root Canal Treatmen...   \n",
       "1986              1 Feedback Pallikaranai, Chennai ₹500   \n",
       "\n",
       "                        Place           Profile  \\\n",
       "1982  Basavanagudi, Bangalore          Ayurveda   \n",
       "1983         Choolai, Chennai    Dermatologists   \n",
       "1984           Porur, Chennai  General Medicine   \n",
       "1985       Arekere, Bangalore           Dentist   \n",
       "1986    Pallikaranai, Chennai    Dermatologists   \n",
       "\n",
       "                                       Qualification Rating label  \n",
       "1982                        BAMS, Doctor of Medicine    NaN  test  \n",
       "1983  MD - Dermatology , Venereology & Leprosy, MBBS    NaN  test  \n",
       "1984        MBBS, MD / MS - Obstetrics & Gynaecology    NaN  test  \n",
       "1985                                             BDS    98%  test  \n",
       "1986  MBBS, MD - Dermatology , Venereology & Leprosy    NaN  test  "
      ]
     },
     "execution_count": 10,
     "metadata": {},
     "output_type": "execute_result"
    }
   ],
   "source": [
    "# import datasets\n",
    "train_path = \".\\dataset\\Final_Train.xlsx\"\n",
    "test_path = \".\\dataset\\Final_Test.xlsx\"\n",
    "\n",
    "train = pd.read_excel(train_path)\n",
    "train['label'] = \"train\"\n",
    "\n",
    "test = pd.read_excel(test_path)\n",
    "test[\"label\"] = \"test\"\n",
    "\n",
    "df = pd.concat([train, test], axis = 0, sort = True)\n",
    "df.tail()"
   ]
  },
  {
   "cell_type": "markdown",
   "metadata": {},
   "source": [
    "### Feature Engineering"
   ]
  },
  {
   "cell_type": "code",
   "execution_count": 11,
   "metadata": {},
   "outputs": [
    {
     "data": {
      "text/plain": [
       "Experience             0.000000\n",
       "Fees                  33.333333\n",
       "Miscellaneous_Info    57.943298\n",
       "Place                  0.520047\n",
       "Profile                0.000000\n",
       "Qualification          0.000000\n",
       "Rating                73.678913\n",
       "label                  0.000000\n",
       "dtype: float64"
      ]
     },
     "execution_count": 11,
     "metadata": {},
     "output_type": "execute_result"
    }
   ],
   "source": [
    "# Check for missing values\n",
    "df.isnull().sum()/len(train)*100"
   ]
  },
  {
   "cell_type": "markdown",
   "metadata": {},
   "source": [
    "#### Inference\n",
    "* 73.67 % data are missing in Rating column\n",
    "* 57.94 % data are missing in Miscellaneous_Info column\n",
    "* 0.52 % data are missing in Place column\n",
    "\n",
    "We will handle these missing values later."
   ]
  },
  {
   "cell_type": "code",
   "execution_count": 12,
   "metadata": {},
   "outputs": [],
   "source": [
    "# Extract years of experience\n",
    "df[\"Experience\"] = df[\"Experience\"].str.split()\n",
    "df[\"Experience\"] = df[\"Experience\"].str[0].astype(\"int\")"
   ]
  },
  {
   "cell_type": "code",
   "execution_count": 13,
   "metadata": {},
   "outputs": [],
   "source": [
    "# Extract Area and City from Place\n",
    "df[\"Place\"] = df[\"Place\"].fillna(\"Unknown, Unknown\")\n",
    "df[\"Place\"] = df[\"Place\"].str.split(',')\n",
    "df[\"Area\"] = df[\"Place\"].str[0]\n",
    "df[\"City\"] = df[\"Place\"].str[-1]\n",
    "\n",
    "df.drop(\"Place\", axis = 1, inplace = True)"
   ]
  },
  {
   "cell_type": "code",
   "execution_count": 14,
   "metadata": {},
   "outputs": [],
   "source": [
    "# Rating\n",
    "df[\"Rating\"].fillna(\"-99%\", inplace = True)\n",
    "df[\"Rating\"] = df[\"Rating\"].str[:-1].astype(\"int\")\n",
    "\n",
    "bins = [-99,0,10,20,30,40,50,60,70,80,90,100]\n",
    "labels = list(range(11))\n",
    "df[\"Rating\"] = pd.cut(df[\"Rating\"], bins=bins, labels=labels, include_lowest=True)"
   ]
  },
  {
   "cell_type": "code",
   "execution_count": 16,
   "metadata": {},
   "outputs": [],
   "source": [
    "# Extract relevant qualification\n",
    "df[\"Qualification\"] = df[\"Qualification\"].str.split(\",\")\n",
    "Qualification ={}\n",
    "for x in df[\"Qualification\"].values:\n",
    "    for each in x:\n",
    "        each = each.strip()\n",
    "        if each in Qualification:\n",
    "            Qualification[each] += 1\n",
    "        else:\n",
    "            Qualification[each] = 1"
   ]
  },
  {
   "cell_type": "code",
   "execution_count": 17,
   "metadata": {},
   "outputs": [],
   "source": [
    "most_qua = sorted(Qualification.items(),key=lambda x:x[1],reverse=True)[:10]\n",
    "final_qua =[]\n",
    "for tup in most_qua:\n",
    "    final_qua.append(tup[0])\n",
    "for title in final_qua:\n",
    "    df[title]=0\n",
    "    \n",
    "for x,y in zip(df[\"Qualification\"].values,np.array([idx for idx in range(len(df))])):\n",
    "    for q in x:\n",
    "        q = q.strip()\n",
    "        if q in final_qua:\n",
    "            df[q][y] = 1\n",
    "df.drop(\"Qualification\",axis=1,inplace=True)"
   ]
  },
  {
   "cell_type": "code",
   "execution_count": 18,
   "metadata": {},
   "outputs": [
    {
     "name": "stdout",
     "output_type": "stream",
     "text": [
      " Bangalore             1678\n",
      " Mumbai                1608\n",
      " Delhi                 1602\n",
      " Hyderabad             1284\n",
      " Chennai               1142\n",
      " Coimbatore             298\n",
      " Ernakulam              201\n",
      " Thiruvananthapuram     103\n",
      " Unknown                 31\n",
      "e                         1\n",
      "Name: City, dtype: int64\n"
     ]
    }
   ],
   "source": [
    "# sanity cleck\n",
    "print(df[\"City\"].value_counts())\n",
    "\n",
    "df_copy = df.copy() # will be used later"
   ]
  },
  {
   "cell_type": "markdown",
   "metadata": {},
   "source": [
    "There is a one record where City is marked 'e', i beleive this would be typo. Its best to replace this as Unknown"
   ]
  },
  {
   "cell_type": "code",
   "execution_count": 19,
   "metadata": {},
   "outputs": [],
   "source": [
    "error = df.index[df[\"City\"] == 'e'].tolist()[0]\n",
    "df[\"City\"][error] = \"Unknown\"\n",
    "df[\"Area\"][error] = \"Unknown\""
   ]
  },
  {
   "cell_type": "code",
   "execution_count": 20,
   "metadata": {},
   "outputs": [],
   "source": [
    "# Covert Profile and City column into dummies\n",
    "qual = pd.get_dummies(df, columns = [\"Profile\", \"City\"], prefix = [\"Profile\", \"City\"])# this will be used later\n",
    "\n",
    "df = pd.get_dummies(df, columns = [\"Profile\", \"City\"], prefix = [\"Profile\", \"City\"],  drop_first = True)"
   ]
  },
  {
   "cell_type": "markdown",
   "metadata": {},
   "source": [
    "I dont find Miscellaneous_Info column as relevant because the main information has is already present in other columns. So I am going to drop this."
   ]
  },
  {
   "cell_type": "code",
   "execution_count": 21,
   "metadata": {},
   "outputs": [],
   "source": [
    "# Drop Miscellaneous_Info\n",
    "df.drop(\"Miscellaneous_Info\", axis = 1, inplace = True)"
   ]
  },
  {
   "cell_type": "code",
   "execution_count": 22,
   "metadata": {},
   "outputs": [
    {
     "data": {
      "text/html": [
       "<div>\n",
       "<style scoped>\n",
       "    .dataframe tbody tr th:only-of-type {\n",
       "        vertical-align: middle;\n",
       "    }\n",
       "\n",
       "    .dataframe tbody tr th {\n",
       "        vertical-align: top;\n",
       "    }\n",
       "\n",
       "    .dataframe thead th {\n",
       "        text-align: right;\n",
       "    }\n",
       "</style>\n",
       "<table border=\"1\" class=\"dataframe\">\n",
       "  <thead>\n",
       "    <tr style=\"text-align: right;\">\n",
       "      <th></th>\n",
       "      <th>Experience</th>\n",
       "      <th>Rating</th>\n",
       "      <th>Area</th>\n",
       "      <th>MBBS</th>\n",
       "      <th>BDS</th>\n",
       "      <th>BAMS</th>\n",
       "      <th>BHMS</th>\n",
       "      <th>MD - Dermatology</th>\n",
       "      <th>MS - ENT</th>\n",
       "      <th>Venereology &amp; Leprosy</th>\n",
       "      <th>MD - General Medicine</th>\n",
       "      <th>Diploma in Otorhinolaryngology (DLO)</th>\n",
       "      <th>MD - Homeopathy</th>\n",
       "      <th>Profile_Dentist</th>\n",
       "      <th>Profile_Dermatologists</th>\n",
       "      <th>Profile_ENT Specialist</th>\n",
       "      <th>Profile_General Medicine</th>\n",
       "      <th>Profile_Homeopath</th>\n",
       "      <th>City_ Chennai</th>\n",
       "      <th>City_ Coimbatore</th>\n",
       "      <th>City_ Delhi</th>\n",
       "      <th>City_ Ernakulam</th>\n",
       "      <th>City_ Hyderabad</th>\n",
       "      <th>City_ Mumbai</th>\n",
       "      <th>City_ Thiruvananthapuram</th>\n",
       "      <th>City_ Unknown</th>\n",
       "      <th>City_Unknown</th>\n",
       "    </tr>\n",
       "  </thead>\n",
       "  <tbody>\n",
       "    <tr>\n",
       "      <th>0</th>\n",
       "      <td>35</td>\n",
       "      <td>0</td>\n",
       "      <td>Ghatkopar East</td>\n",
       "      <td>0</td>\n",
       "      <td>0</td>\n",
       "      <td>0</td>\n",
       "      <td>1</td>\n",
       "      <td>0</td>\n",
       "      <td>0</td>\n",
       "      <td>0</td>\n",
       "      <td>0</td>\n",
       "      <td>0</td>\n",
       "      <td>1</td>\n",
       "      <td>0</td>\n",
       "      <td>0</td>\n",
       "      <td>0</td>\n",
       "      <td>1</td>\n",
       "      <td>0</td>\n",
       "      <td>0</td>\n",
       "      <td>0</td>\n",
       "      <td>0</td>\n",
       "      <td>0</td>\n",
       "      <td>0</td>\n",
       "      <td>1</td>\n",
       "      <td>0</td>\n",
       "      <td>0</td>\n",
       "      <td>0</td>\n",
       "    </tr>\n",
       "    <tr>\n",
       "      <th>1</th>\n",
       "      <td>31</td>\n",
       "      <td>0</td>\n",
       "      <td>West Marredpally</td>\n",
       "      <td>0</td>\n",
       "      <td>0</td>\n",
       "      <td>1</td>\n",
       "      <td>0</td>\n",
       "      <td>0</td>\n",
       "      <td>0</td>\n",
       "      <td>0</td>\n",
       "      <td>0</td>\n",
       "      <td>0</td>\n",
       "      <td>0</td>\n",
       "      <td>0</td>\n",
       "      <td>0</td>\n",
       "      <td>1</td>\n",
       "      <td>0</td>\n",
       "      <td>0</td>\n",
       "      <td>0</td>\n",
       "      <td>0</td>\n",
       "      <td>0</td>\n",
       "      <td>0</td>\n",
       "      <td>1</td>\n",
       "      <td>0</td>\n",
       "      <td>0</td>\n",
       "      <td>0</td>\n",
       "      <td>0</td>\n",
       "    </tr>\n",
       "    <tr>\n",
       "      <th>2</th>\n",
       "      <td>40</td>\n",
       "      <td>7</td>\n",
       "      <td>KK Nagar</td>\n",
       "      <td>1</td>\n",
       "      <td>0</td>\n",
       "      <td>0</td>\n",
       "      <td>0</td>\n",
       "      <td>0</td>\n",
       "      <td>0</td>\n",
       "      <td>0</td>\n",
       "      <td>0</td>\n",
       "      <td>0</td>\n",
       "      <td>0</td>\n",
       "      <td>0</td>\n",
       "      <td>1</td>\n",
       "      <td>0</td>\n",
       "      <td>0</td>\n",
       "      <td>0</td>\n",
       "      <td>1</td>\n",
       "      <td>0</td>\n",
       "      <td>0</td>\n",
       "      <td>0</td>\n",
       "      <td>0</td>\n",
       "      <td>0</td>\n",
       "      <td>0</td>\n",
       "      <td>0</td>\n",
       "      <td>0</td>\n",
       "    </tr>\n",
       "    <tr>\n",
       "      <th>3</th>\n",
       "      <td>0</td>\n",
       "      <td>0</td>\n",
       "      <td>New Ashok Nagar</td>\n",
       "      <td>0</td>\n",
       "      <td>0</td>\n",
       "      <td>1</td>\n",
       "      <td>0</td>\n",
       "      <td>0</td>\n",
       "      <td>0</td>\n",
       "      <td>0</td>\n",
       "      <td>0</td>\n",
       "      <td>0</td>\n",
       "      <td>0</td>\n",
       "      <td>0</td>\n",
       "      <td>0</td>\n",
       "      <td>0</td>\n",
       "      <td>0</td>\n",
       "      <td>0</td>\n",
       "      <td>0</td>\n",
       "      <td>0</td>\n",
       "      <td>1</td>\n",
       "      <td>0</td>\n",
       "      <td>0</td>\n",
       "      <td>0</td>\n",
       "      <td>0</td>\n",
       "      <td>0</td>\n",
       "      <td>0</td>\n",
       "    </tr>\n",
       "    <tr>\n",
       "      <th>4</th>\n",
       "      <td>16</td>\n",
       "      <td>10</td>\n",
       "      <td>Kanakpura Road</td>\n",
       "      <td>0</td>\n",
       "      <td>0</td>\n",
       "      <td>1</td>\n",
       "      <td>0</td>\n",
       "      <td>0</td>\n",
       "      <td>0</td>\n",
       "      <td>0</td>\n",
       "      <td>0</td>\n",
       "      <td>0</td>\n",
       "      <td>0</td>\n",
       "      <td>1</td>\n",
       "      <td>0</td>\n",
       "      <td>0</td>\n",
       "      <td>0</td>\n",
       "      <td>0</td>\n",
       "      <td>0</td>\n",
       "      <td>0</td>\n",
       "      <td>0</td>\n",
       "      <td>0</td>\n",
       "      <td>0</td>\n",
       "      <td>0</td>\n",
       "      <td>0</td>\n",
       "      <td>0</td>\n",
       "      <td>0</td>\n",
       "    </tr>\n",
       "    <tr>\n",
       "      <th>...</th>\n",
       "      <td>...</td>\n",
       "      <td>...</td>\n",
       "      <td>...</td>\n",
       "      <td>...</td>\n",
       "      <td>...</td>\n",
       "      <td>...</td>\n",
       "      <td>...</td>\n",
       "      <td>...</td>\n",
       "      <td>...</td>\n",
       "      <td>...</td>\n",
       "      <td>...</td>\n",
       "      <td>...</td>\n",
       "      <td>...</td>\n",
       "      <td>...</td>\n",
       "      <td>...</td>\n",
       "      <td>...</td>\n",
       "      <td>...</td>\n",
       "      <td>...</td>\n",
       "      <td>...</td>\n",
       "      <td>...</td>\n",
       "      <td>...</td>\n",
       "      <td>...</td>\n",
       "      <td>...</td>\n",
       "      <td>...</td>\n",
       "      <td>...</td>\n",
       "      <td>...</td>\n",
       "      <td>...</td>\n",
       "    </tr>\n",
       "    <tr>\n",
       "      <th>1982</th>\n",
       "      <td>10</td>\n",
       "      <td>0</td>\n",
       "      <td>Basavanagudi</td>\n",
       "      <td>0</td>\n",
       "      <td>0</td>\n",
       "      <td>1</td>\n",
       "      <td>0</td>\n",
       "      <td>0</td>\n",
       "      <td>0</td>\n",
       "      <td>0</td>\n",
       "      <td>0</td>\n",
       "      <td>0</td>\n",
       "      <td>0</td>\n",
       "      <td>0</td>\n",
       "      <td>0</td>\n",
       "      <td>0</td>\n",
       "      <td>0</td>\n",
       "      <td>0</td>\n",
       "      <td>0</td>\n",
       "      <td>0</td>\n",
       "      <td>0</td>\n",
       "      <td>0</td>\n",
       "      <td>0</td>\n",
       "      <td>0</td>\n",
       "      <td>0</td>\n",
       "      <td>0</td>\n",
       "      <td>0</td>\n",
       "    </tr>\n",
       "    <tr>\n",
       "      <th>1983</th>\n",
       "      <td>4</td>\n",
       "      <td>0</td>\n",
       "      <td>Choolai</td>\n",
       "      <td>1</td>\n",
       "      <td>0</td>\n",
       "      <td>0</td>\n",
       "      <td>0</td>\n",
       "      <td>1</td>\n",
       "      <td>0</td>\n",
       "      <td>0</td>\n",
       "      <td>0</td>\n",
       "      <td>0</td>\n",
       "      <td>0</td>\n",
       "      <td>0</td>\n",
       "      <td>1</td>\n",
       "      <td>0</td>\n",
       "      <td>0</td>\n",
       "      <td>0</td>\n",
       "      <td>1</td>\n",
       "      <td>0</td>\n",
       "      <td>0</td>\n",
       "      <td>0</td>\n",
       "      <td>0</td>\n",
       "      <td>0</td>\n",
       "      <td>0</td>\n",
       "      <td>0</td>\n",
       "      <td>0</td>\n",
       "    </tr>\n",
       "    <tr>\n",
       "      <th>1984</th>\n",
       "      <td>9</td>\n",
       "      <td>0</td>\n",
       "      <td>Porur</td>\n",
       "      <td>0</td>\n",
       "      <td>0</td>\n",
       "      <td>0</td>\n",
       "      <td>1</td>\n",
       "      <td>0</td>\n",
       "      <td>0</td>\n",
       "      <td>0</td>\n",
       "      <td>0</td>\n",
       "      <td>0</td>\n",
       "      <td>1</td>\n",
       "      <td>0</td>\n",
       "      <td>0</td>\n",
       "      <td>0</td>\n",
       "      <td>1</td>\n",
       "      <td>0</td>\n",
       "      <td>1</td>\n",
       "      <td>0</td>\n",
       "      <td>0</td>\n",
       "      <td>0</td>\n",
       "      <td>0</td>\n",
       "      <td>0</td>\n",
       "      <td>0</td>\n",
       "      <td>0</td>\n",
       "      <td>0</td>\n",
       "    </tr>\n",
       "    <tr>\n",
       "      <th>1985</th>\n",
       "      <td>12</td>\n",
       "      <td>10</td>\n",
       "      <td>Arekere</td>\n",
       "      <td>1</td>\n",
       "      <td>0</td>\n",
       "      <td>0</td>\n",
       "      <td>0</td>\n",
       "      <td>0</td>\n",
       "      <td>1</td>\n",
       "      <td>0</td>\n",
       "      <td>0</td>\n",
       "      <td>0</td>\n",
       "      <td>0</td>\n",
       "      <td>1</td>\n",
       "      <td>0</td>\n",
       "      <td>0</td>\n",
       "      <td>0</td>\n",
       "      <td>0</td>\n",
       "      <td>0</td>\n",
       "      <td>0</td>\n",
       "      <td>0</td>\n",
       "      <td>0</td>\n",
       "      <td>0</td>\n",
       "      <td>0</td>\n",
       "      <td>0</td>\n",
       "      <td>0</td>\n",
       "      <td>0</td>\n",
       "    </tr>\n",
       "    <tr>\n",
       "      <th>1986</th>\n",
       "      <td>8</td>\n",
       "      <td>0</td>\n",
       "      <td>Pallikaranai</td>\n",
       "      <td>1</td>\n",
       "      <td>0</td>\n",
       "      <td>0</td>\n",
       "      <td>0</td>\n",
       "      <td>0</td>\n",
       "      <td>0</td>\n",
       "      <td>0</td>\n",
       "      <td>0</td>\n",
       "      <td>0</td>\n",
       "      <td>0</td>\n",
       "      <td>0</td>\n",
       "      <td>1</td>\n",
       "      <td>0</td>\n",
       "      <td>0</td>\n",
       "      <td>0</td>\n",
       "      <td>1</td>\n",
       "      <td>0</td>\n",
       "      <td>0</td>\n",
       "      <td>0</td>\n",
       "      <td>0</td>\n",
       "      <td>0</td>\n",
       "      <td>0</td>\n",
       "      <td>0</td>\n",
       "      <td>0</td>\n",
       "    </tr>\n",
       "  </tbody>\n",
       "</table>\n",
       "<p>1987 rows × 27 columns</p>\n",
       "</div>"
      ],
      "text/plain": [
       "      Experience Rating              Area  MBBS  BDS  BAMS  BHMS  \\\n",
       "0             35      0    Ghatkopar East     0    0     0     1   \n",
       "1             31      0  West Marredpally     0    0     1     0   \n",
       "2             40      7          KK Nagar     1    0     0     0   \n",
       "3              0      0   New Ashok Nagar     0    0     1     0   \n",
       "4             16     10    Kanakpura Road     0    0     1     0   \n",
       "...          ...    ...               ...   ...  ...   ...   ...   \n",
       "1982          10      0      Basavanagudi     0    0     1     0   \n",
       "1983           4      0           Choolai     1    0     0     0   \n",
       "1984           9      0             Porur     0    0     0     1   \n",
       "1985          12     10           Arekere     1    0     0     0   \n",
       "1986           8      0      Pallikaranai     1    0     0     0   \n",
       "\n",
       "      MD - Dermatology  MS - ENT  Venereology & Leprosy  \\\n",
       "0                    0         0                      0   \n",
       "1                    0         0                      0   \n",
       "2                    0         0                      0   \n",
       "3                    0         0                      0   \n",
       "4                    0         0                      0   \n",
       "...                ...       ...                    ...   \n",
       "1982                 0         0                      0   \n",
       "1983                 1         0                      0   \n",
       "1984                 0         0                      0   \n",
       "1985                 0         1                      0   \n",
       "1986                 0         0                      0   \n",
       "\n",
       "      MD - General Medicine  Diploma in Otorhinolaryngology (DLO)  \\\n",
       "0                         0                                     0   \n",
       "1                         0                                     0   \n",
       "2                         0                                     0   \n",
       "3                         0                                     0   \n",
       "4                         0                                     0   \n",
       "...                     ...                                   ...   \n",
       "1982                      0                                     0   \n",
       "1983                      0                                     0   \n",
       "1984                      0                                     0   \n",
       "1985                      0                                     0   \n",
       "1986                      0                                     0   \n",
       "\n",
       "      MD - Homeopathy  Profile_Dentist  Profile_Dermatologists  \\\n",
       "0                   1                0                       0   \n",
       "1                   0                0                       0   \n",
       "2                   0                0                       1   \n",
       "3                   0                0                       0   \n",
       "4                   0                1                       0   \n",
       "...               ...              ...                     ...   \n",
       "1982                0                0                       0   \n",
       "1983                0                0                       1   \n",
       "1984                1                0                       0   \n",
       "1985                0                1                       0   \n",
       "1986                0                0                       1   \n",
       "\n",
       "      Profile_ENT Specialist  Profile_General Medicine  Profile_Homeopath  \\\n",
       "0                          0                         1                  0   \n",
       "1                          1                         0                  0   \n",
       "2                          0                         0                  0   \n",
       "3                          0                         0                  0   \n",
       "4                          0                         0                  0   \n",
       "...                      ...                       ...                ...   \n",
       "1982                       0                         0                  0   \n",
       "1983                       0                         0                  0   \n",
       "1984                       0                         1                  0   \n",
       "1985                       0                         0                  0   \n",
       "1986                       0                         0                  0   \n",
       "\n",
       "      City_ Chennai  City_ Coimbatore  City_ Delhi  City_ Ernakulam  \\\n",
       "0                 0                 0            0                0   \n",
       "1                 0                 0            0                0   \n",
       "2                 1                 0            0                0   \n",
       "3                 0                 0            1                0   \n",
       "4                 0                 0            0                0   \n",
       "...             ...               ...          ...              ...   \n",
       "1982              0                 0            0                0   \n",
       "1983              1                 0            0                0   \n",
       "1984              1                 0            0                0   \n",
       "1985              0                 0            0                0   \n",
       "1986              1                 0            0                0   \n",
       "\n",
       "      City_ Hyderabad  City_ Mumbai  City_ Thiruvananthapuram  City_ Unknown  \\\n",
       "0                   0             1                         0              0   \n",
       "1                   1             0                         0              0   \n",
       "2                   0             0                         0              0   \n",
       "3                   0             0                         0              0   \n",
       "4                   0             0                         0              0   \n",
       "...               ...           ...                       ...            ...   \n",
       "1982                0             0                         0              0   \n",
       "1983                0             0                         0              0   \n",
       "1984                0             0                         0              0   \n",
       "1985                0             0                         0              0   \n",
       "1986                0             0                         0              0   \n",
       "\n",
       "      City_Unknown  \n",
       "0                0  \n",
       "1                0  \n",
       "2                0  \n",
       "3                0  \n",
       "4                0  \n",
       "...            ...  \n",
       "1982             0  \n",
       "1983             0  \n",
       "1984             0  \n",
       "1985             0  \n",
       "1986             0  \n",
       "\n",
       "[1987 rows x 27 columns]"
      ]
     },
     "execution_count": 22,
     "metadata": {},
     "output_type": "execute_result"
    }
   ],
   "source": [
    "# create train and test\n",
    "train = df[df[\"label\"] == \"train\"]\n",
    "train.drop(\"label\", axis = 1)\n",
    "\n",
    "test = df[df[\"label\"] == \"test\"]\n",
    "test.drop([\"label\", \"Fees\"], axis = 1)"
   ]
  },
  {
   "cell_type": "markdown",
   "metadata": {},
   "source": [
    "### EDA - Univariate Analysis"
   ]
  },
  {
   "cell_type": "code",
   "execution_count": 23,
   "metadata": {},
   "outputs": [
    {
     "data": {
      "image/png": "[encoded data removed]",
      "text/plain": [
       "<Figure size 432x288 with 1 Axes>"
      ]
     },
     "metadata": {
      "needs_background": "light"
     },
     "output_type": "display_data"
    }
   ],
   "source": [
    "# Experience\n",
    "sns.distplot(train[\"Experience\"])\n",
    "plt.show()"
   ]
  },
  {
   "cell_type": "code",
   "execution_count": 24,
   "metadata": {},
   "outputs": [
    {
     "name": "stdout",
     "output_type": "stream",
     "text": [
      "Median experience of doctors:  14.0\n",
      "Minimum experience of doctors:  0\n",
      "Maximum experience of doctors:  66\n",
      "Accoriding to Chebyshev Rule\n",
      "75% of doctors experience lies within a range of -5 to 40 years\n",
      "The experience below -12.0 years and above 44.0 years are outliers\n",
      "The distribution is positively skewed\n"
     ]
    }
   ],
   "source": [
    "median_experience = train[\"Experience\"].median()\n",
    "mean_experience = train[\"Experience\"].mean()\n",
    "std_experience = train[\"Experience\"].std()\n",
    "iqr = train[\"Experience\"].quantile(0.75) - train[\"Experience\"].quantile(0.25)\n",
    "outlier_exp_up = train[\"Experience\"].quantile(0.75) + 1.5*iqr\n",
    "outlier_exp_down = train[\"Experience\"].quantile(0.25) - 1.5*iqr \n",
    "\n",
    "print(\"Median experience of doctors: \", median_experience)\n",
    "print(\"Minimum experience of doctors: \", train[\"Experience\"].min())\n",
    "print(\"Maximum experience of doctors: \", train[\"Experience\"].max())\n",
    "print(\"Accoriding to Chebyshev Rule\\n75% of doctors experience lies within a range of {0} to {1} years\".format(round(mean_experience - (2*std_experience)), round(mean_experience + (2*std_experience))))\n",
    "print(\"The experience below {0} years and above {1} years are outliers\".format(outlier_exp_down, outlier_exp_up))\n",
    "print(\"The distribution is positively skewed\")"
   ]
  },
  {
   "cell_type": "code",
   "execution_count": 25,
   "metadata": {},
   "outputs": [
    {
     "data": {
      "image/png": "[encoded data removed]",
      "text/plain": [
       "<Figure size 432x288 with 1 Axes>"
      ]
     },
     "metadata": {
      "needs_background": "light"
     },
     "output_type": "display_data"
    }
   ],
   "source": [
    "sns.boxplot(x = train[\"Experience\"])\n",
    "plt.show()"
   ]
  },
  {
   "cell_type": "markdown",
   "metadata": {},
   "source": [
    "With box plot it is pretty much evident that there are significant numbers of outliers."
   ]
  },
  {
   "cell_type": "code",
   "execution_count": 26,
   "metadata": {},
   "outputs": [
    {
     "data": {
      "text/html": [
       "<div>\n",
       "<style scoped>\n",
       "    .dataframe tbody tr th:only-of-type {\n",
       "        vertical-align: middle;\n",
       "    }\n",
       "\n",
       "    .dataframe tbody tr th {\n",
       "        vertical-align: top;\n",
       "    }\n",
       "\n",
       "    .dataframe thead th {\n",
       "        text-align: right;\n",
       "    }\n",
       "</style>\n",
       "<table border=\"1\" class=\"dataframe\">\n",
       "  <thead>\n",
       "    <tr style=\"text-align: right;\">\n",
       "      <th></th>\n",
       "      <th>Experience</th>\n",
       "      <th>Fees</th>\n",
       "      <th>Rating</th>\n",
       "      <th>label</th>\n",
       "      <th>Area</th>\n",
       "      <th>MBBS</th>\n",
       "      <th>BDS</th>\n",
       "      <th>BAMS</th>\n",
       "      <th>BHMS</th>\n",
       "      <th>MD - Dermatology</th>\n",
       "      <th>MS - ENT</th>\n",
       "      <th>Venereology &amp; Leprosy</th>\n",
       "      <th>MD - General Medicine</th>\n",
       "      <th>Diploma in Otorhinolaryngology (DLO)</th>\n",
       "      <th>MD - Homeopathy</th>\n",
       "      <th>Profile_Dentist</th>\n",
       "      <th>Profile_Dermatologists</th>\n",
       "      <th>Profile_ENT Specialist</th>\n",
       "      <th>Profile_General Medicine</th>\n",
       "      <th>Profile_Homeopath</th>\n",
       "      <th>City_ Chennai</th>\n",
       "      <th>City_ Coimbatore</th>\n",
       "      <th>City_ Delhi</th>\n",
       "      <th>City_ Ernakulam</th>\n",
       "      <th>City_ Hyderabad</th>\n",
       "      <th>City_ Mumbai</th>\n",
       "      <th>City_ Thiruvananthapuram</th>\n",
       "      <th>City_ Unknown</th>\n",
       "      <th>City_Unknown</th>\n",
       "    </tr>\n",
       "  </thead>\n",
       "  <tbody>\n",
       "    <tr>\n",
       "      <th>0</th>\n",
       "      <td>24</td>\n",
       "      <td>100.0</td>\n",
       "      <td>10</td>\n",
       "      <td>train</td>\n",
       "      <td>Kakkanad</td>\n",
       "      <td>0</td>\n",
       "      <td>0</td>\n",
       "      <td>0</td>\n",
       "      <td>1</td>\n",
       "      <td>0</td>\n",
       "      <td>0</td>\n",
       "      <td>0</td>\n",
       "      <td>0</td>\n",
       "      <td>0</td>\n",
       "      <td>1</td>\n",
       "      <td>0</td>\n",
       "      <td>0</td>\n",
       "      <td>0</td>\n",
       "      <td>0</td>\n",
       "      <td>1</td>\n",
       "      <td>0</td>\n",
       "      <td>0</td>\n",
       "      <td>0</td>\n",
       "      <td>1</td>\n",
       "      <td>0</td>\n",
       "      <td>0</td>\n",
       "      <td>0</td>\n",
       "      <td>0</td>\n",
       "      <td>0</td>\n",
       "    </tr>\n",
       "    <tr>\n",
       "      <th>1</th>\n",
       "      <td>12</td>\n",
       "      <td>350.0</td>\n",
       "      <td>10</td>\n",
       "      <td>train</td>\n",
       "      <td>Whitefield</td>\n",
       "      <td>0</td>\n",
       "      <td>0</td>\n",
       "      <td>1</td>\n",
       "      <td>0</td>\n",
       "      <td>0</td>\n",
       "      <td>0</td>\n",
       "      <td>0</td>\n",
       "      <td>0</td>\n",
       "      <td>0</td>\n",
       "      <td>0</td>\n",
       "      <td>0</td>\n",
       "      <td>0</td>\n",
       "      <td>0</td>\n",
       "      <td>0</td>\n",
       "      <td>0</td>\n",
       "      <td>0</td>\n",
       "      <td>0</td>\n",
       "      <td>0</td>\n",
       "      <td>0</td>\n",
       "      <td>0</td>\n",
       "      <td>0</td>\n",
       "      <td>0</td>\n",
       "      <td>0</td>\n",
       "      <td>0</td>\n",
       "    </tr>\n",
       "    <tr>\n",
       "      <th>2</th>\n",
       "      <td>9</td>\n",
       "      <td>300.0</td>\n",
       "      <td>0</td>\n",
       "      <td>train</td>\n",
       "      <td>Mathikere - BEL</td>\n",
       "      <td>1</td>\n",
       "      <td>0</td>\n",
       "      <td>0</td>\n",
       "      <td>0</td>\n",
       "      <td>0</td>\n",
       "      <td>0</td>\n",
       "      <td>0</td>\n",
       "      <td>0</td>\n",
       "      <td>0</td>\n",
       "      <td>0</td>\n",
       "      <td>0</td>\n",
       "      <td>0</td>\n",
       "      <td>1</td>\n",
       "      <td>0</td>\n",
       "      <td>0</td>\n",
       "      <td>0</td>\n",
       "      <td>0</td>\n",
       "      <td>0</td>\n",
       "      <td>0</td>\n",
       "      <td>0</td>\n",
       "      <td>0</td>\n",
       "      <td>0</td>\n",
       "      <td>0</td>\n",
       "      <td>0</td>\n",
       "    </tr>\n",
       "    <tr>\n",
       "      <th>3</th>\n",
       "      <td>12</td>\n",
       "      <td>250.0</td>\n",
       "      <td>0</td>\n",
       "      <td>train</td>\n",
       "      <td>Bannerghatta Road</td>\n",
       "      <td>0</td>\n",
       "      <td>0</td>\n",
       "      <td>1</td>\n",
       "      <td>0</td>\n",
       "      <td>0</td>\n",
       "      <td>0</td>\n",
       "      <td>0</td>\n",
       "      <td>0</td>\n",
       "      <td>0</td>\n",
       "      <td>0</td>\n",
       "      <td>0</td>\n",
       "      <td>0</td>\n",
       "      <td>0</td>\n",
       "      <td>0</td>\n",
       "      <td>0</td>\n",
       "      <td>0</td>\n",
       "      <td>0</td>\n",
       "      <td>0</td>\n",
       "      <td>0</td>\n",
       "      <td>0</td>\n",
       "      <td>0</td>\n",
       "      <td>0</td>\n",
       "      <td>0</td>\n",
       "      <td>0</td>\n",
       "    </tr>\n",
       "    <tr>\n",
       "      <th>4</th>\n",
       "      <td>20</td>\n",
       "      <td>250.0</td>\n",
       "      <td>10</td>\n",
       "      <td>train</td>\n",
       "      <td>Keelkattalai</td>\n",
       "      <td>0</td>\n",
       "      <td>0</td>\n",
       "      <td>1</td>\n",
       "      <td>0</td>\n",
       "      <td>0</td>\n",
       "      <td>0</td>\n",
       "      <td>0</td>\n",
       "      <td>0</td>\n",
       "      <td>0</td>\n",
       "      <td>0</td>\n",
       "      <td>0</td>\n",
       "      <td>0</td>\n",
       "      <td>0</td>\n",
       "      <td>0</td>\n",
       "      <td>0</td>\n",
       "      <td>1</td>\n",
       "      <td>0</td>\n",
       "      <td>0</td>\n",
       "      <td>0</td>\n",
       "      <td>0</td>\n",
       "      <td>0</td>\n",
       "      <td>0</td>\n",
       "      <td>0</td>\n",
       "      <td>0</td>\n",
       "    </tr>\n",
       "  </tbody>\n",
       "</table>\n",
       "</div>"
      ],
      "text/plain": [
       "   Experience   Fees Rating  label               Area  MBBS  BDS  BAMS  BHMS  \\\n",
       "0          24  100.0     10  train           Kakkanad     0    0     0     1   \n",
       "1          12  350.0     10  train         Whitefield     0    0     1     0   \n",
       "2           9  300.0      0  train    Mathikere - BEL     1    0     0     0   \n",
       "3          12  250.0      0  train  Bannerghatta Road     0    0     1     0   \n",
       "4          20  250.0     10  train       Keelkattalai     0    0     1     0   \n",
       "\n",
       "   MD - Dermatology  MS - ENT  Venereology & Leprosy  MD - General Medicine  \\\n",
       "0                 0         0                      0                      0   \n",
       "1                 0         0                      0                      0   \n",
       "2                 0         0                      0                      0   \n",
       "3                 0         0                      0                      0   \n",
       "4                 0         0                      0                      0   \n",
       "\n",
       "   Diploma in Otorhinolaryngology (DLO)  MD - Homeopathy  Profile_Dentist  \\\n",
       "0                                     0                1                0   \n",
       "1                                     0                0                0   \n",
       "2                                     0                0                0   \n",
       "3                                     0                0                0   \n",
       "4                                     0                0                0   \n",
       "\n",
       "   Profile_Dermatologists  Profile_ENT Specialist  Profile_General Medicine  \\\n",
       "0                       0                       0                         0   \n",
       "1                       0                       0                         0   \n",
       "2                       0                       1                         0   \n",
       "3                       0                       0                         0   \n",
       "4                       0                       0                         0   \n",
       "\n",
       "   Profile_Homeopath  City_ Chennai  City_ Coimbatore  City_ Delhi  \\\n",
       "0                  1              0                 0            0   \n",
       "1                  0              0                 0            0   \n",
       "2                  0              0                 0            0   \n",
       "3                  0              0                 0            0   \n",
       "4                  0              1                 0            0   \n",
       "\n",
       "   City_ Ernakulam  City_ Hyderabad  City_ Mumbai  City_ Thiruvananthapuram  \\\n",
       "0                1                0             0                         0   \n",
       "1                0                0             0                         0   \n",
       "2                0                0             0                         0   \n",
       "3                0                0             0                         0   \n",
       "4                0                0             0                         0   \n",
       "\n",
       "   City_ Unknown  City_Unknown  \n",
       "0              0             0  \n",
       "1              0             0  \n",
       "2              0             0  \n",
       "3              0             0  \n",
       "4              0             0  "
      ]
     },
     "execution_count": 26,
     "metadata": {},
     "output_type": "execute_result"
    }
   ],
   "source": [
    "train.head()"
   ]
  },
  {
   "cell_type": "markdown",
   "metadata": {},
   "source": [
    "### Fees"
   ]
  },
  {
   "cell_type": "code",
   "execution_count": 27,
   "metadata": {},
   "outputs": [
    {
     "data": {
      "image/png": "[encoded data removed]",
      "text/plain": [
       "<Figure size 432x288 with 1 Axes>"
      ]
     },
     "metadata": {
      "needs_background": "light"
     },
     "output_type": "display_data"
    }
   ],
   "source": [
    "# Experience\n",
    "sns.distplot(train[\"Fees\"])\n",
    "plt.show()"
   ]
  },
  {
   "cell_type": "code",
   "execution_count": 28,
   "metadata": {},
   "outputs": [
    {
     "name": "stdout",
     "output_type": "stream",
     "text": [
      "Minimum fees of doctors:  5.0\n",
      "Maximum fees of doctors:  950.0\n",
      "Accoriding to Chebyshev Rule\n",
      "75% of doctors are charging fees between -74 to 690 Rupees\n",
      "The average fees charged by doctor is Rs 308 and the most common fees is Rs 100.0\n",
      "The fees below -375.0 Rupees and above 1025.0 Rupess are outliers\n"
     ]
    }
   ],
   "source": [
    "mean_fees = train[\"Fees\"].mean()\n",
    "std_fees = train[\"Fees\"].std()\n",
    "median_fees = train[\"Fees\"].median()\n",
    "mode_fees = train[\"Fees\"].mode()\n",
    "iqr_fees = train[\"Fees\"].quantile(0.75) - train[\"Fees\"].quantile(0.25)\n",
    "outlier_fees_up = train[\"Fees\"].quantile(0.75) + 1.5*iqr_fees\n",
    "outlier_fees_down = train[\"Fees\"].quantile(0.25) - 1.5*iqr_fees \n",
    "\n",
    "print(\"Minimum fees of doctors: \", train[\"Fees\"].min())\n",
    "print(\"Maximum fees of doctors: \", train[\"Fees\"].max())\n",
    "print(\"Accoriding to Chebyshev Rule\\n75% of doctors are charging fees between {0} to {1} Rupees\".format(round(mean_fees - 2*std_fees), round(mean_fees + 2*std_fees)))\n",
    "print(\"The average fees charged by doctor is Rs {0} and the most common fees is Rs {1}\".format(round(mean_fees), mode_fees[0]) )\n",
    "print(\"The fees below {0} Rupees and above {1} Rupess are outliers\".format(outlier_fees_down, outlier_fees_up))"
   ]
  },
  {
   "cell_type": "code",
   "execution_count": 29,
   "metadata": {},
   "outputs": [
    {
     "data": {
      "image/png": "[encoded data removed]",
      "text/plain": [
       "<Figure size 432x288 with 1 Axes>"
      ]
     },
     "metadata": {
      "needs_background": "light"
     },
     "output_type": "display_data"
    }
   ],
   "source": [
    "sns.boxplot(x = train[\"Fees\"])\n",
    "plt.show()"
   ]
  },
  {
   "cell_type": "markdown",
   "metadata": {},
   "source": [
    "#### Inference\n",
    "* Fees is a multimodal distribution.\n",
    "* Distribution is positively skewed\n",
    "* There is no potential outliers in fees.\n",
    "* It is bit weird that the minimum fees charged by doctor is Rs 5"
   ]
  },
  {
   "cell_type": "code",
   "execution_count": 30,
   "metadata": {},
   "outputs": [
    {
     "data": {
      "text/html": [
       "<div>\n",
       "<style scoped>\n",
       "    .dataframe tbody tr th:only-of-type {\n",
       "        vertical-align: middle;\n",
       "    }\n",
       "\n",
       "    .dataframe tbody tr th {\n",
       "        vertical-align: top;\n",
       "    }\n",
       "\n",
       "    .dataframe thead th {\n",
       "        text-align: right;\n",
       "    }\n",
       "</style>\n",
       "<table border=\"1\" class=\"dataframe\">\n",
       "  <thead>\n",
       "    <tr style=\"text-align: right;\">\n",
       "      <th></th>\n",
       "      <th>Experience</th>\n",
       "      <th>Fees</th>\n",
       "      <th>Rating</th>\n",
       "      <th>label</th>\n",
       "      <th>Area</th>\n",
       "      <th>MBBS</th>\n",
       "      <th>BDS</th>\n",
       "      <th>BAMS</th>\n",
       "      <th>BHMS</th>\n",
       "      <th>MD - Dermatology</th>\n",
       "      <th>MS - ENT</th>\n",
       "      <th>Venereology &amp; Leprosy</th>\n",
       "      <th>MD - General Medicine</th>\n",
       "      <th>Diploma in Otorhinolaryngology (DLO)</th>\n",
       "      <th>MD - Homeopathy</th>\n",
       "      <th>Profile_Dentist</th>\n",
       "      <th>Profile_Dermatologists</th>\n",
       "      <th>Profile_ENT Specialist</th>\n",
       "      <th>Profile_General Medicine</th>\n",
       "      <th>Profile_Homeopath</th>\n",
       "      <th>City_ Chennai</th>\n",
       "      <th>City_ Coimbatore</th>\n",
       "      <th>City_ Delhi</th>\n",
       "      <th>City_ Ernakulam</th>\n",
       "      <th>City_ Hyderabad</th>\n",
       "      <th>City_ Mumbai</th>\n",
       "      <th>City_ Thiruvananthapuram</th>\n",
       "      <th>City_ Unknown</th>\n",
       "      <th>City_Unknown</th>\n",
       "    </tr>\n",
       "  </thead>\n",
       "  <tbody>\n",
       "    <tr>\n",
       "      <th>1930</th>\n",
       "      <td>6</td>\n",
       "      <td>5.0</td>\n",
       "      <td>0</td>\n",
       "      <td>train</td>\n",
       "      <td>TV Medical College</td>\n",
       "      <td>0</td>\n",
       "      <td>1</td>\n",
       "      <td>0</td>\n",
       "      <td>0</td>\n",
       "      <td>0</td>\n",
       "      <td>0</td>\n",
       "      <td>0</td>\n",
       "      <td>0</td>\n",
       "      <td>0</td>\n",
       "      <td>0</td>\n",
       "      <td>1</td>\n",
       "      <td>0</td>\n",
       "      <td>0</td>\n",
       "      <td>0</td>\n",
       "      <td>0</td>\n",
       "      <td>0</td>\n",
       "      <td>0</td>\n",
       "      <td>0</td>\n",
       "      <td>0</td>\n",
       "      <td>0</td>\n",
       "      <td>0</td>\n",
       "      <td>1</td>\n",
       "      <td>0</td>\n",
       "      <td>0</td>\n",
       "    </tr>\n",
       "  </tbody>\n",
       "</table>\n",
       "</div>"
      ],
      "text/plain": [
       "      Experience  Fees Rating  label                Area  MBBS  BDS  BAMS  \\\n",
       "1930           6   5.0      0  train  TV Medical College     0    1     0   \n",
       "\n",
       "      BHMS  MD - Dermatology  MS - ENT  Venereology & Leprosy  \\\n",
       "1930     0                 0         0                      0   \n",
       "\n",
       "      MD - General Medicine  Diploma in Otorhinolaryngology (DLO)  \\\n",
       "1930                      0                                     0   \n",
       "\n",
       "      MD - Homeopathy  Profile_Dentist  Profile_Dermatologists  \\\n",
       "1930                0                1                       0   \n",
       "\n",
       "      Profile_ENT Specialist  Profile_General Medicine  Profile_Homeopath  \\\n",
       "1930                       0                         0                  0   \n",
       "\n",
       "      City_ Chennai  City_ Coimbatore  City_ Delhi  City_ Ernakulam  \\\n",
       "1930              0                 0            0                0   \n",
       "\n",
       "      City_ Hyderabad  City_ Mumbai  City_ Thiruvananthapuram  City_ Unknown  \\\n",
       "1930                0             0                         1              0   \n",
       "\n",
       "      City_Unknown  \n",
       "1930             0  "
      ]
     },
     "execution_count": 30,
     "metadata": {},
     "output_type": "execute_result"
    }
   ],
   "source": [
    "train[train[\"Fees\"]==5]"
   ]
  },
  {
   "cell_type": "markdown",
   "metadata": {},
   "source": [
    "#### Interesting observation\n",
    "There is a doctor with 6 year of experience in Thiruvananthapuram who work as a Dentist in TV Medical College who charge only Rs 5.\n",
    "<br>This may be due to error in recording or the doctor is really doing a great job.</br>"
   ]
  },
  {
   "cell_type": "markdown",
   "metadata": {},
   "source": [
    "#### Bivariate Analysis - Experience Vs Fees"
   ]
  },
  {
   "cell_type": "code",
   "execution_count": 31,
   "metadata": {},
   "outputs": [
    {
     "data": {
      "image/png": "[encoded data removed]",
      "text/plain": [
       "<Figure size 432x288 with 1 Axes>"
      ]
     },
     "metadata": {
      "needs_background": "light"
     },
     "output_type": "display_data"
    }
   ],
   "source": [
    "sns.scatterplot(train[\"Experience\"],train[\"Fees\"])\n",
    "plt.show()"
   ]
  },
  {
   "cell_type": "markdown",
   "metadata": {},
   "source": [
    "There is not much inference we can draw from this figure. I think is no correlation between fees and Experience of doctors."
   ]
  },
  {
   "cell_type": "code",
   "execution_count": 33,
   "metadata": {},
   "outputs": [
    {
     "data": {
      "image/png": "[encoded data removed]",
      "text/plain": [
       "<Figure size 432x288 with 1 Axes>"
      ]
     },
     "metadata": {
      "needs_background": "light"
     },
     "output_type": "display_data"
    }
   ],
   "source": [
    "sns.kdeplot(scale(train[\"Experience\"]), label = 'Experience')\n",
    "sns.kdeplot(scale(train[\"Fees\"]), label = 'Fees')\n",
    "plt.legend()\n",
    "plt.show()"
   ]
  },
  {
   "cell_type": "markdown",
   "metadata": {},
   "source": [
    "#### Inference\n",
    "The most common fees which is Rs 100 (approx) is mostly taken by doctors with experience of about 6 years."
   ]
  },
  {
   "cell_type": "markdown",
   "metadata": {},
   "source": [
    "### Rating"
   ]
  },
  {
   "cell_type": "code",
   "execution_count": 34,
   "metadata": {},
   "outputs": [
    {
     "data": {
      "image/png": "[encoded data removed]",
      "text/plain": [
       "<Figure size 432x288 with 1 Axes>"
      ]
     },
     "metadata": {
      "needs_background": "light"
     },
     "output_type": "display_data"
    }
   ],
   "source": [
    "train[\"Rating\"].hist()\n",
    "plt.show()"
   ]
  },
  {
   "cell_type": "markdown",
   "metadata": {},
   "source": [
    "Majority of rating is either 0 or 10, this shows polarization of views among the patients for the service of doctor."
   ]
  },
  {
   "cell_type": "markdown",
   "metadata": {},
   "source": [
    "#### Fees Vs Rating"
   ]
  },
  {
   "cell_type": "code",
   "execution_count": 35,
   "metadata": {},
   "outputs": [
    {
     "data": {
      "image/png": "[encoded data removed]",
      "text/plain": [
       "<Figure size 432x288 with 1 Axes>"
      ]
     },
     "metadata": {
      "needs_background": "light"
     },
     "output_type": "display_data"
    }
   ],
   "source": [
    "sns.kdeplot(scale(train[\"Rating\"]), label = 'Rating')\n",
    "sns.kdeplot(scale(train[\"Fees\"]), label = 'Fees')\n",
    "plt.legend()\n",
    "plt.show()"
   ]
  },
  {
   "cell_type": "code",
   "execution_count": 36,
   "metadata": {},
   "outputs": [
    {
     "data": {
      "text/plain": [
       "0.38411071967790644"
      ]
     },
     "execution_count": 36,
     "metadata": {},
     "output_type": "execute_result"
    }
   ],
   "source": [
    "(500 - train[\"Fees\"].mean())/500"
   ]
  },
  {
   "cell_type": "markdown",
   "metadata": {},
   "source": [
    "Clearly, doctors whose rating is zero have low fees (close to minimum) and doctors whose rating is 10 have charges 38% higher than the average fees. "
   ]
  },
  {
   "cell_type": "code",
   "execution_count": 44,
   "metadata": {},
   "outputs": [
    {
     "data": {
      "text/plain": [
       "5961"
      ]
     },
     "execution_count": 44,
     "metadata": {},
     "output_type": "execute_result"
    }
   ],
   "source": [
    "total_doctors"
   ]
  },
  {
   "cell_type": "markdown",
   "metadata": {},
   "source": [
    "### Area"
   ]
  },
  {
   "cell_type": "code",
   "execution_count": 50,
   "metadata": {},
   "outputs": [
    {
     "name": "stdout",
     "output_type": "stream",
     "text": [
      "Top 10 areas with highest number of doctors\n",
      "             Area  # doctors  percentages of doctors\n",
      "0      HSR Layout         75                1.258178\n",
      "1    Andheri West         70                1.174300\n",
      "2          Dwarka         68                1.140748\n",
      "3   Banjara Hills         64                1.073645\n",
      "4     Mulund West         54                0.905888\n",
      "5   Borivali West         52                0.872337\n",
      "6  Kandivali West         50                0.838785\n",
      "7     Indiranagar         48                0.805234\n",
      "8     Malleswaram         47                0.788458\n",
      "9      Malad West         47                0.788458\n"
     ]
    }
   ],
   "source": [
    "area = pd.DataFrame({\"Area\": train[\"Area\"].value_counts().index,\n",
    "                    '# doctors': train[\"Area\"].value_counts().to_list()})\n",
    "total_doctors =  area[\"# doctors\"].sum()\n",
    "area[\"percentages of doctors\"] = (area[\"# doctors\"] / total_doctors)*100\n",
    "area_top_10 = area.head(10)\n",
    "print(\"Top 10 areas with highest number of doctors\")\n",
    "print(area.head(10))"
   ]
  },
  {
   "cell_type": "markdown",
   "metadata": {},
   "source": [
    "#### Area Vs Fees"
   ]
  },
  {
   "cell_type": "code",
   "execution_count": 51,
   "metadata": {},
   "outputs": [
    {
     "name": "stdout",
     "output_type": "stream",
     "text": [
      "             Area  # doctors  percentages of doctors  Median Fees\n",
      "9      Malad West         47                0.788458        500.0\n",
      "3   Banjara Hills         64                1.073645        450.0\n",
      "2          Dwarka         68                1.140748        400.0\n",
      "7     Indiranagar         48                0.805234        400.0\n",
      "0      HSR Layout         75                1.258178        350.0\n",
      "5   Borivali West         52                0.872337        325.0\n",
      "6  Kandivali West         50                0.838785        300.0\n",
      "8     Malleswaram         47                0.788458        300.0\n",
      "1    Andheri West         70                1.174300        275.0\n",
      "4     Mulund West         54                0.905888        200.0\n"
     ]
    }
   ],
   "source": [
    "area_fees = train[[\"Area\", \"Fees\"]]\n",
    "# area_fees = (area_fees.groupby([\"Area\"]).sum()/area_fees.groupby([\"Area\"]).count()).reset_index()\n",
    "area_fees = (area_fees.groupby([\"Area\"]).median()).reset_index()\n",
    "\n",
    "# merge both the dataframe\n",
    "area_df = pd.merge(area_top_10, area_fees, on=\"Area\").sort_values(\"Fees\", ascending=False)\n",
    "area_df.rename(columns = {\"Fees\": \"Median Fees\"}, inplace = True)\n",
    "print(area_df)"
   ]
  },
  {
   "cell_type": "code",
   "execution_count": 52,
   "metadata": {},
   "outputs": [
    {
     "data": {
      "image/png": "[encoded data removed]",
      "text/plain": [
       "<Figure size 792x360 with 1 Axes>"
      ]
     },
     "metadata": {
      "needs_background": "light"
     },
     "output_type": "display_data"
    }
   ],
   "source": [
    "plt.figure(figsize = (11, 5))\n",
    "sns.barplot(x=\"Area\", y=\"Median Fees\", data = area_df, palette=\"Blues_d\")\n",
    "\n",
    "plt.xticks(rotation=70)\n",
    "plt.show()"
   ]
  },
  {
   "cell_type": "markdown",
   "metadata": {},
   "source": [
    "### City Vs Percentage of Doctors"
   ]
  },
  {
   "cell_type": "code",
   "execution_count": 53,
   "metadata": {},
   "outputs": [
    {
     "name": "stdout",
     "output_type": "stream",
     "text": [
      "City with # doctors in descending order\n",
      "                  City  # doctors  percentages of doctors\n",
      "0            Bangalore       1678               21.112229\n",
      "1               Mumbai       1608               20.231505\n",
      "2                Delhi       1602               20.156014\n",
      "3            Hyderabad       1284               16.155008\n",
      "4              Chennai       1142               14.368395\n",
      "5           Coimbatore        298                3.749371\n",
      "6            Ernakulam        201                2.528938\n",
      "7   Thiruvananthapuram        103                1.295924\n"
     ]
    }
   ],
   "source": [
    "city = pd.DataFrame({\"City\": df_copy[\"City\"].value_counts().index,\n",
    "                    '# doctors': df_copy[\"City\"].value_counts().to_list()})\n",
    "city[\"percentages of doctors\"] = (city[\"# doctors\"]/ city[\"# doctors\"].sum())*100\n",
    "city_top_8 = city.head(8)\n",
    "print(\"City with # doctors in descending order\")\n",
    "print(city_top_8)"
   ]
  },
  {
   "cell_type": "markdown",
   "metadata": {},
   "source": [
    "#### City Vs Fees"
   ]
  },
  {
   "cell_type": "code",
   "execution_count": 54,
   "metadata": {},
   "outputs": [
    {
     "name": "stdout",
     "output_type": "stream",
     "text": [
      "                  City  # doctors  percentages of doctors  Median Fees\n",
      "0            Bangalore       1678               21.112229        300.0\n",
      "2                Delhi       1602               20.156014        300.0\n",
      "3            Hyderabad       1284               16.155008        300.0\n",
      "1               Mumbai       1608               20.231505        200.0\n",
      "4              Chennai       1142               14.368395        200.0\n",
      "6            Ernakulam        201                2.528938        200.0\n",
      "5           Coimbatore        298                3.749371        150.0\n",
      "7   Thiruvananthapuram        103                1.295924        150.0\n"
     ]
    }
   ],
   "source": [
    "city_fees = df_copy[[\"City\", \"Fees\"]]\n",
    "# area_fees = (area_fees.groupby([\"Area\"]).sum()/area_fees.groupby([\"Area\"]).count()).reset_index()\n",
    "city_fees = city_fees.groupby([\"City\"]).median()\n",
    "\n",
    "# merge both the dataframe\n",
    "city_df = pd.merge(city_top_8, city_fees, on=\"City\").sort_values(\"Fees\", ascending=False)\n",
    "city_df.rename(columns = {\"Fees\": \"Median Fees\"}, inplace = True)\n",
    "print(city_df)"
   ]
  },
  {
   "cell_type": "code",
   "execution_count": 55,
   "metadata": {},
   "outputs": [
    {
     "data": {
      "image/png": "[encoded data removed]",
      "text/plain": [
       "<Figure size 792x360 with 1 Axes>"
      ]
     },
     "metadata": {
      "needs_background": "light"
     },
     "output_type": "display_data"
    }
   ],
   "source": [
    "plt.figure(figsize = (11, 5))\n",
    "sns.barplot(x=\"City\", y=\"Median Fees\", data = city_df, palette=\"Blues_d\")\n",
    "\n",
    "plt.xticks(rotation=60)\n",
    "plt.show()"
   ]
  },
  {
   "cell_type": "markdown",
   "metadata": {},
   "source": [
    "### Profile"
   ]
  },
  {
   "cell_type": "code",
   "execution_count": 56,
   "metadata": {},
   "outputs": [
    {
     "data": {
      "text/html": [
       "<div>\n",
       "<style scoped>\n",
       "    .dataframe tbody tr th:only-of-type {\n",
       "        vertical-align: middle;\n",
       "    }\n",
       "\n",
       "    .dataframe tbody tr th {\n",
       "        vertical-align: top;\n",
       "    }\n",
       "\n",
       "    .dataframe thead th {\n",
       "        text-align: right;\n",
       "    }\n",
       "</style>\n",
       "<table border=\"1\" class=\"dataframe\">\n",
       "  <thead>\n",
       "    <tr style=\"text-align: right;\">\n",
       "      <th></th>\n",
       "      <th>Profile_Ayurveda</th>\n",
       "      <th>Profile_Dentist</th>\n",
       "      <th>Profile_Dermatologists</th>\n",
       "      <th>Profile_ENT Specialist</th>\n",
       "      <th>Profile_General Medicine</th>\n",
       "      <th>Profile_Homeopath</th>\n",
       "      <th>Fees</th>\n",
       "    </tr>\n",
       "  </thead>\n",
       "  <tbody>\n",
       "    <tr>\n",
       "      <th>0</th>\n",
       "      <td>0</td>\n",
       "      <td>0</td>\n",
       "      <td>0</td>\n",
       "      <td>0</td>\n",
       "      <td>0</td>\n",
       "      <td>1</td>\n",
       "      <td>100.0</td>\n",
       "    </tr>\n",
       "    <tr>\n",
       "      <th>1</th>\n",
       "      <td>1</td>\n",
       "      <td>0</td>\n",
       "      <td>0</td>\n",
       "      <td>0</td>\n",
       "      <td>0</td>\n",
       "      <td>0</td>\n",
       "      <td>350.0</td>\n",
       "    </tr>\n",
       "    <tr>\n",
       "      <th>2</th>\n",
       "      <td>0</td>\n",
       "      <td>0</td>\n",
       "      <td>0</td>\n",
       "      <td>1</td>\n",
       "      <td>0</td>\n",
       "      <td>0</td>\n",
       "      <td>300.0</td>\n",
       "    </tr>\n",
       "    <tr>\n",
       "      <th>3</th>\n",
       "      <td>1</td>\n",
       "      <td>0</td>\n",
       "      <td>0</td>\n",
       "      <td>0</td>\n",
       "      <td>0</td>\n",
       "      <td>0</td>\n",
       "      <td>250.0</td>\n",
       "    </tr>\n",
       "    <tr>\n",
       "      <th>4</th>\n",
       "      <td>1</td>\n",
       "      <td>0</td>\n",
       "      <td>0</td>\n",
       "      <td>0</td>\n",
       "      <td>0</td>\n",
       "      <td>0</td>\n",
       "      <td>250.0</td>\n",
       "    </tr>\n",
       "  </tbody>\n",
       "</table>\n",
       "</div>"
      ],
      "text/plain": [
       "   Profile_Ayurveda  Profile_Dentist  Profile_Dermatologists  \\\n",
       "0                 0                0                       0   \n",
       "1                 1                0                       0   \n",
       "2                 0                0                       0   \n",
       "3                 1                0                       0   \n",
       "4                 1                0                       0   \n",
       "\n",
       "   Profile_ENT Specialist  Profile_General Medicine  Profile_Homeopath   Fees  \n",
       "0                       0                         0                  1  100.0  \n",
       "1                       0                         0                  0  350.0  \n",
       "2                       1                         0                  0  300.0  \n",
       "3                       0                         0                  0  250.0  \n",
       "4                       0                         0                  0  250.0  "
      ]
     },
     "execution_count": 56,
     "metadata": {},
     "output_type": "execute_result"
    }
   ],
   "source": [
    "profile = [col for col in qual.columns if 'Profile' in col]\n",
    "profile_df = qual[profile]\n",
    "profile_df[\"Fees\"] = qual[\"Fees\"]\n",
    "\n",
    "profile_df.head(5)"
   ]
  },
  {
   "cell_type": "code",
   "execution_count": 57,
   "metadata": {},
   "outputs": [
    {
     "name": "stdout",
     "output_type": "stream",
     "text": [
      "Percentage of doctors in Profile_Ayurveda is 13.0\n",
      "Percentage of doctors in Profile_Dentist is 23.0\n",
      "Percentage of doctors in Profile_Dermatologists is 17.0\n",
      "Percentage of doctors in Profile_ENT Specialist is 12.0\n",
      "Percentage of doctors in Profile_General Medicine is 20.0\n",
      "Percentage of doctors in Profile_Homeopath is 14.0\n"
     ]
    }
   ],
   "source": [
    "# Number of doctors profile wise\n",
    "doctor_count = []\n",
    "for i in profile:\n",
    "    print(\"Percentage of doctors in {0} is {1}\".format(i, round(profile_df[i].sum()/profile_df.shape[0] *100)))"
   ]
  },
  {
   "cell_type": "markdown",
   "metadata": {},
   "source": [
    "Majority of Doctors are in General Medicine and there are very few doctors practicising Ayurveda"
   ]
  },
  {
   "cell_type": "markdown",
   "metadata": {},
   "source": [
    "#### Profile Vs Fees"
   ]
  },
  {
   "cell_type": "code",
   "execution_count": 58,
   "metadata": {},
   "outputs": [],
   "source": [
    "avg_fees_by_profile = []\n",
    "for pro in profile:\n",
    "    avg_fees_by_profile.append(profile_df[profile_df[pro] == 1][\"Fees\"].mean())"
   ]
  },
  {
   "cell_type": "code",
   "execution_count": 59,
   "metadata": {},
   "outputs": [
    {
     "data": {
      "image/png": "[encoded data removed]",
      "text/plain": [
       "<Figure size 1080x360 with 1 Axes>"
      ]
     },
     "metadata": {
      "needs_background": "light"
     },
     "output_type": "display_data"
    }
   ],
   "source": [
    "profile_fees_df = pd.DataFrame({\"profile\": profile,\n",
    "                              \"average_fees_by_profile\": avg_fees_by_profile})\n",
    "profile_fees_df = profile_fees_df.set_index(\"profile\")\n",
    "\n",
    "# Visualize profile vs Fees\n",
    "profile_fees_df.plot(figsize = (15, 5))\n",
    "plt.show()"
   ]
  },
  {
   "cell_type": "markdown",
   "metadata": {},
   "source": [
    "It is clear that dermatologistis and ENT specialist are charging highest among all."
   ]
  },
  {
   "cell_type": "markdown",
   "metadata": {},
   "source": [
    "### Qalification Vs Fees"
   ]
  },
  {
   "cell_type": "code",
   "execution_count": 60,
   "metadata": {},
   "outputs": [],
   "source": [
    "qualification = [\"MBBS\" , \"BDS\", \"BAMS\", \"BHMS\", \"MD - Dermatology\", \"MS - ENT\", \"Venereology & Leprosy\", \"MD - General Medicine\",\n",
    "\"Diploma in Otorhinolaryngology (DLO)\", \"MD - Homeopathy\"]\n",
    "qual_df = qual[qualification]\n",
    "qual_df[\"Fees\"] = qual[\"Fees\"]"
   ]
  },
  {
   "cell_type": "code",
   "execution_count": 61,
   "metadata": {},
   "outputs": [
    {
     "name": "stdout",
     "output_type": "stream",
     "text": [
      "Percentage of doctors in MBBS is 47.0\n",
      "Percentage of doctors in BDS is 23.0\n",
      "Percentage of doctors in BAMS is 13.0\n",
      "Percentage of doctors in BHMS is 13.0\n",
      "Percentage of doctors in MD - Dermatology is 10.0\n",
      "Percentage of doctors in MS - ENT is 7.0\n",
      "Percentage of doctors in Venereology & Leprosy is 5.0\n",
      "Percentage of doctors in MD - General Medicine is 5.0\n",
      "Percentage of doctors in Diploma in Otorhinolaryngology (DLO) is 4.0\n",
      "Percentage of doctors in MD - Homeopathy is 3.0\n"
     ]
    }
   ],
   "source": [
    "# Number of doctors profile wise\n",
    "doctor_count = []\n",
    "for i in qualification:\n",
    "    print(\"Percentage of doctors in {0} is {1}\".format(i, round(qual_df[i].sum()/qual_df.shape[0] *100)))"
   ]
  },
  {
   "cell_type": "markdown",
   "metadata": {},
   "source": [
    "Majority of doctors have done MBBS and BDS degree."
   ]
  },
  {
   "cell_type": "markdown",
   "metadata": {},
   "source": [
    "#### Qualification Vs Fees\n"
   ]
  },
  {
   "cell_type": "code",
   "execution_count": 62,
   "metadata": {},
   "outputs": [],
   "source": [
    "avg_fees_by_qual = []\n",
    "for q in qualification:\n",
    "    avg_fees_by_qual.append(qual_df[qual_df[q] == 1][\"Fees\"].mean())"
   ]
  },
  {
   "cell_type": "code",
   "execution_count": 63,
   "metadata": {},
   "outputs": [
    {
     "data": {
      "image/png": "[encoded data removed]",
      "text/plain": [
       "<Figure size 792x360 with 1 Axes>"
      ]
     },
     "metadata": {
      "needs_background": "light"
     },
     "output_type": "display_data"
    }
   ],
   "source": [
    "qual_fees_df = pd.DataFrame({\"qualification\": qualification,\n",
    "                              \"average_fees_by_qualification\": avg_fees_by_qual})\n",
    "qual_fees_df = qual_fees_df.sort_values(by = \"average_fees_by_qualification\", ascending = False)\n",
    "\n",
    "# Visualize Qualification Vs Fees\n",
    "plt.figure(figsize = (11, 5))\n",
    "sns.barplot(x=\"qualification\", y=\"average_fees_by_qualification\", data = qual_fees_df, palette=\"Blues_d\")\n",
    "\n",
    "plt.xticks(rotation=60)\n",
    "plt.show()"
   ]
  },
  {
   "cell_type": "markdown",
   "metadata": {},
   "source": [
    "Doctors with MD in Dermatology and MS in ENT chargest most whereas whereas Ayurvedic doctors are least paid."
   ]
  }
 ],
 "metadata": {
  "kernelspec": {
   "display_name": "Python 3",
   "language": "python",
   "name": "python3"
  },
  "language_info": {
   "codemirror_mode": {
    "name": "ipython",
    "version": 3
   },
   "file_extension": ".py",
   "mimetype": "text/x-python",
   "name": "python",
   "nbconvert_exporter": "python",
   "pygments_lexer": "ipython3",
   "version": "3.7.4"
  }
 },
 "nbformat": 4,
 "nbformat_minor": 2
}
